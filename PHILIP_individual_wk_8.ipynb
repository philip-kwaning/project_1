{
 "cells": [
  {
   "cell_type": "code",
   "execution_count": 1,
   "id": "baddaf6a",
   "metadata": {},
   "outputs": [],
   "source": [
    "#! pip install pandas\n",
    "import pandas as pd"
   ]
  },
  {
   "cell_type": "code",
   "execution_count": null,
   "id": "8dc97eef-c217-45d4-9dd9-bdd3abbac4aa",
   "metadata": {},
   "outputs": [],
   "source": [
    "\n",
    "import pandas as pd\n",
    "from sklearn.model_selection import train_test_split\n",
    "from sklearn.preprocessing import LabelEncoder\n",
    "from sklearn.neighbors import KNeighborsClassifier\n",
    "from sklearn.metrics import accuracy_score, classification_report"
   ]
  },
  {
   "cell_type": "code",
   "execution_count": null,
   "id": "29d453b0-b0b2-488e-b77e-78d2753733d6",
   "metadata": {},
   "outputs": [],
   "source": [
    "\n",
    "# Load your dataset\n",
    "data = pd.read_csv('dollar_tree-case.csv')\n",
    "data"
   ]
  },
  {
   "cell_type": "code",
   "execution_count": null,
   "id": "03f83330-15de-4ca3-9f42-0590cb219abc",
   "metadata": {},
   "outputs": [],
   "source": [
    "data.info()"
   ]
  },
  {
   "cell_type": "code",
   "execution_count": null,
   "id": "44d66541-79f9-4900-b96d-975555fbca11",
   "metadata": {},
   "outputs": [],
   "source": [
    "data.shape"
   ]
  },
  {
   "cell_type": "code",
   "execution_count": null,
   "id": "f2689e28-be7b-4cb7-b199-93f4156b086d",
   "metadata": {},
   "outputs": [],
   "source": [
    "data.isnull().sum()"
   ]
  },
  {
   "cell_type": "code",
   "execution_count": null,
   "id": "ad479fc0-513b-4bdb-b196-81077a85ca97",
   "metadata": {},
   "outputs": [],
   "source": [
    "data = data.dropna()\n",
    "data \n"
   ]
  },
  {
   "cell_type": "code",
   "execution_count": null,
   "id": "dc137c9e-9900-4510-a542-e9975ffca894",
   "metadata": {},
   "outputs": [],
   "source": [
    "\n",
    "# Remove unnecessary columns\n",
    "data = data.drop(columns=['Month', 'Date', 'Year', 'Column1'], axis=1)"
   ]
  },
  {
   "cell_type": "code",
   "execution_count": null,
   "id": "75d01ac7-75c6-4788-abc0-d482c8ef3125",
   "metadata": {},
   "outputs": [],
   "source": [
    "\n",
    "# # Encode categorical variables\n",
    "# label_encoders = {}\n",
    "# categorical_cols = ['Customer Gender', 'Country', 'State', 'Product Category', 'Sub Category']\n",
    "# for col in categorical_cols:\n",
    "#     le = LabelEncoder()\n",
    "#     data[col] = le.fit_transform(data[col])\n",
    "#     label_encoders[col] = le"
   ]
  },
  {
   "cell_type": "code",
   "execution_count": null,
   "id": "1610869b-b4a7-4e23-965a-110954728971",
   "metadata": {},
   "outputs": [],
   "source": [
    "# define a function to encode categorical variables\n",
    "\n",
    "def label_encoder(data,cat_cols):\n",
    "    encoder= {}\n",
    "    for col in cat_cols:\n",
    "        data[col] = LabelEncoder().fit_transform(data[col])\n",
    "        encoder[col]=LabelEncoder() # Store the LabelEncoder for the column in the dictionary\n",
    "    return data,encoder\n",
    "\n",
    "\n",
    "\n"
   ]
  },
  {
   "cell_type": "code",
   "execution_count": null,
   "id": "1e1d41c0-1122-42e7-926a-43f15510be25",
   "metadata": {},
   "outputs": [],
   "source": [
    "# categorical variables\n",
    "cat_cols=['Customer Gender', 'Country', 'State', 'Product Category', 'Sub Category']"
   ]
  },
  {
   "cell_type": "code",
   "execution_count": null,
   "id": "9e8c0eca-1df5-48ef-86b1-f00751be872a",
   "metadata": {},
   "outputs": [],
   "source": [
    "# call the function to encode categorical columns\n",
    "label = label_encoder(data,cat_cols)"
   ]
  },
  {
   "cell_type": "code",
   "execution_count": null,
   "id": "8649e5ea-c987-4ee9-a586-8b71e9e20d17",
   "metadata": {},
   "outputs": [],
   "source": [
    "\n",
    "# Define features and target\n",
    "X = data.drop(columns=['Product Category'])\n",
    "y = data['Product Category']\n",
    "\n"
   ]
  },
  {
   "cell_type": "code",
   "execution_count": null,
   "id": "e593ff76-f315-4b48-a4b4-021944b5bc89",
   "metadata": {},
   "outputs": [],
   "source": [
    "\n",
    "# Split the data into training and testing sets\n",
    "X_train, X_test, y_train, y_test = train_test_split(X, y, test_size=0.2, random_state=42)"
   ]
  },
  {
   "cell_type": "code",
   "execution_count": null,
   "id": "fb9ba28a-8987-4d96-a174-f13d9872e21e",
   "metadata": {},
   "outputs": [],
   "source": [
    "\n",
    "# Create and train a K-Nearest Neighbors classifier\n",
    "k = 5  # You can adjust the number of neighbors (k) as needed\n",
    "clf = KNeighborsClassifier(n_neighbors=k)\n",
    "clf.fit(X_train, y_train)"
   ]
  },
  {
   "cell_type": "code",
   "execution_count": null,
   "id": "2feec1d8-cd50-40eb-b345-c166edf43849",
   "metadata": {},
   "outputs": [],
   "source": [
    "\n",
    "# Make predictions\n",
    "y_pred = clf.predict(X_test)\n",
    "y_pred\n"
   ]
  },
  {
   "cell_type": "code",
   "execution_count": null,
   "id": "8642bfd5-b1d1-414d-881c-85f78840ac5c",
   "metadata": {},
   "outputs": [],
   "source": [
    "\n",
    "# Evaluate the model\n",
    "accuracy = accuracy_score(y_test, y_pred)\n",
    "classification_rep = classification_report(y_test, y_pred)\n",
    "classification_rep\n"
   ]
  },
  {
   "cell_type": "code",
   "execution_count": null,
   "id": "237d1bab-f10b-4030-80ab-c7f143ca6e2f",
   "metadata": {},
   "outputs": [],
   "source": [
    "\n",
    "\n",
    "print(f'Accuracy: {accuracy}')\n",
    "print(classification_rep)\n"
   ]
  },
  {
   "cell_type": "code",
   "execution_count": null,
   "id": "1b0011a2-60c9-44b6-81af-18b28fd5a372",
   "metadata": {},
   "outputs": [],
   "source": []
  },
  {
   "cell_type": "code",
   "execution_count": null,
   "id": "e4543ead-9751-44b5-97d6-d0489e9af3cb",
   "metadata": {},
   "outputs": [],
   "source": []
  },
  {
   "cell_type": "code",
   "execution_count": null,
   "id": "fb802175-b8a6-4a0a-a7e5-7039ffb6532a",
   "metadata": {},
   "outputs": [],
   "source": []
  }
 ],
 "metadata": {
  "kernelspec": {
   "display_name": "Python 3 (ipykernel)",
   "language": "python",
   "name": "python3"
  },
  "language_info": {
   "codemirror_mode": {
    "name": "ipython",
    "version": 3
   },
   "file_extension": ".py",
   "mimetype": "text/x-python",
   "name": "python",
   "nbconvert_exporter": "python",
   "pygments_lexer": "ipython3",
   "version": "3.11.5"
  }
 },
 "nbformat": 4,
 "nbformat_minor": 5
}
